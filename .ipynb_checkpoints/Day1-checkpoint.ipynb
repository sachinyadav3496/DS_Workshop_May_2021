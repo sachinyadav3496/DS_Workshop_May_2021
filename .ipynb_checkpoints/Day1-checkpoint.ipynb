{
 "cells": [
  {
   "cell_type": "markdown",
   "metadata": {},
   "source": [
    "#### Python"
   ]
  },
  {
   "cell_type": "markdown",
   "metadata": {},
   "source": [
    "    Jupyter notebook "
   ]
  },
  {
   "cell_type": "code",
   "execution_count": 6,
   "metadata": {},
   "outputs": [
    {
     "name": "stdout",
     "output_type": "stream",
     "text": [
      "Overwriting one.c\n"
     ]
    }
   ],
   "source": [
    "%%writefile one.c\n",
    "#include<stdio.h>\n",
    "\n",
    "void main(void){\n",
    "    int i;\n",
    "    for (i=1; i<=10;i++)\n",
    "    printf(\"Hello World! Times %d\\n\", i);\n",
    "}"
   ]
  },
  {
   "cell_type": "code",
   "execution_count": 7,
   "metadata": {},
   "outputs": [
    {
     "name": "stdout",
     "output_type": "stream",
     "text": [
      "Hello World! Times 1\n",
      "Hello World! Times 2\n",
      "Hello World! Times 3\n",
      "Hello World! Times 4\n",
      "Hello World! Times 5\n",
      "Hello World! Times 6\n",
      "Hello World! Times 7\n",
      "Hello World! Times 8\n",
      "Hello World! Times 9\n",
      "Hello World! Times 10\n"
     ]
    }
   ],
   "source": [
    "!gcc -c one.c\n",
    "!gcc -o one.exe one.c\n",
    "!.\\one.exe"
   ]
  },
  {
   "cell_type": "code",
   "execution_count": 8,
   "metadata": {},
   "outputs": [
    {
     "name": "stdout",
     "output_type": "stream",
     "text": [
      "Hello World! 1\n",
      "Hello World! 2\n",
      "Hello World! 3\n",
      "Hello World! 4\n",
      "Hello World! 5\n",
      "Hello World! 6\n",
      "Hello World! 7\n",
      "Hello World! 8\n",
      "Hello World! 9\n",
      "Hello World! 10\n"
     ]
    }
   ],
   "source": [
    "for i in range(1, 11):\n",
    "    print(f\"Hello World! {i}\")"
   ]
  },
  {
   "cell_type": "markdown",
   "metadata": {},
   "source": [
    "###### 15 mintue"
   ]
  },
  {
   "cell_type": "code",
   "execution_count": 10,
   "metadata": {},
   "outputs": [
    {
     "data": {
      "application/vnd.jupyter.widget-view+json": {
       "model_id": "c46c19ba0c194e07878751b66b86d891",
       "version_major": 2,
       "version_minor": 0
      },
      "text/plain": [
       "HBox(children=(FloatProgress(value=0.0, max=900.0), HTML(value='')))"
      ]
     },
     "metadata": {},
     "output_type": "display_data"
    },
    {
     "name": "stdout",
     "output_type": "stream",
     "text": [
      "\n"
     ]
    }
   ],
   "source": [
    "import time\n",
    "from tqdm.notebook import tqdm\n",
    "\n",
    "timeout = 15\n",
    "\n",
    "for _ in tqdm(range(timeout*60)):\n",
    "    time.sleep(1)"
   ]
  },
  {
   "cell_type": "markdown",
   "metadata": {},
   "source": [
    "    int j; # type delclearation / static \n",
    "    j = 10;  # how store value in a variable \n",
    "    j = 10.0; // not permitted in c"
   ]
  },
  {
   "cell_type": "code",
   "execution_count": 11,
   "metadata": {},
   "outputs": [
    {
     "name": "stdout",
     "output_type": "stream",
     "text": [
      "Hello world\n"
     ]
    }
   ],
   "source": [
    "print(\"Hello world\")"
   ]
  },
  {
   "cell_type": "code",
   "execution_count": 13,
   "metadata": {},
   "outputs": [
    {
     "name": "stdout",
     "output_type": "stream",
     "text": [
      "5 <class 'int'>\n",
      "6.02 <class 'float'>\n",
      "Sachin <class 'str'>\n"
     ]
    }
   ],
   "source": [
    "# Dynamic , Readble\n",
    "x = 5\n",
    "print(x, type(x)) # int\n",
    "x = 6.02\n",
    "print(x, type(x))  # float\n",
    "x = \"Sachin\"\n",
    "print(x, type(x)) # String"
   ]
  },
  {
   "cell_type": "markdown",
   "metadata": {},
   "source": [
    "#### Basic Coding / Programming\n",
    "\n",
    "1. Basic Input / Output \n",
    "\n",
    "2. Built-in Data Structures \n",
    "\n",
    "        numbers (int, float, complex) -> 4, 10, 6.5, 10 + 6j\n",
    "        strings -> \"hello world!\"\n",
    "        list -> [ 1, 2, 3 , 4, 5], [ 'hello', 'hi', 'bye']\n",
    "        tuple\n",
    "        dictionary\n",
    "        set\n",
    "        frozenset\n",
    "        boolean - True, False\n",
    "        None - null value\n",
    "3. Operators \n",
    "        \n",
    "        Maths Operators -> +, -, *, /, %, //, **\n",
    "        Comparision -> >, <, <=, >=, ==, !=\n",
    "        logical -> and, or, not\n",
    "        bitwise -> ~, ^, &, |, >>, <<\n",
    "        membership -> in, not in\n",
    "        identity -> is, is not\n",
    "        \n",
    "4. Conditional Statements\n",
    "        \n",
    "        if \n",
    "        if - else\n",
    "        nested if - else\n",
    "        if -> else if -> else -> multiple if-else\n",
    "        \n",
    "        if, else, elif\n",
    "        \n",
    "5. Loop / Iterative\n",
    "\n",
    "        while -> initlization, condition, increment / decrement\n",
    "        \n",
    "        for -> iteration\n",
    "        \n",
    "        break, continue\n",
    "        \n",
    "6. Function\n",
    " \n",
    "         scope\n",
    "         \n",
    "         recursion / Recursive\n",
    "         \n",
    "      \n",
    " 7. OOPS / Exception Handling\n",
    " \n",
    "         Data Structures\n",
    "         \n",
    " 8. File Handling / Data Serialization (Json, pickle, yml, xml)\n",
    " \n",
    "         Test Cases\n",
    "       \n",
    " 9. Os related Library  / Standard Library\n",
    " \n",
    "         Operating System Related works\n",
    "             creating foldering, delting file, managing sockets\n",
    "             \n",
    " 10. Modules and Packages / custom library\n",
    "     \n",
    "         application\n",
    "         \n",
    "         setups + exe file\n",
    "         "
   ]
  },
  {
   "cell_type": "markdown",
   "metadata": {},
   "source": [
    "## 1. I/P or O/P"
   ]
  },
  {
   "cell_type": "code",
   "execution_count": 14,
   "metadata": {},
   "outputs": [
    {
     "name": "stdout",
     "output_type": "stream",
     "text": [
      "Hello World!\n"
     ]
    }
   ],
   "source": [
    "print(\"Hello World!\")"
   ]
  },
  {
   "cell_type": "code",
   "execution_count": 17,
   "metadata": {},
   "outputs": [
    {
     "name": "stdout",
     "output_type": "stream",
     "text": [
      "x = 5\n",
      "y = 6.02\n",
      "name  = sachin\n",
      "x = 5\n",
      "y = 6.02\n",
      "name  = sachin\n"
     ]
    }
   ],
   "source": [
    "x = 5\n",
    "y = 6.02\n",
    "name = 'sachin'\n",
    "\n",
    "\n",
    "print(\"x = %d\\ny = %.2f\\nname  = %s\"%(x, y, name))\n",
    "print(f\"x = {x}\\ny = {y:.2f}\\nname  = {name}\") # f-string\n"
   ]
  },
  {
   "cell_type": "markdown",
   "metadata": {},
   "source": [
    "##### Input "
   ]
  },
  {
   "cell_type": "code",
   "execution_count": 21,
   "metadata": {},
   "outputs": [
    {
     "name": "stdout",
     "output_type": "stream",
     "text": [
      "Python 3.8.3\n"
     ]
    }
   ],
   "source": [
    "!python --version\n",
    "# python >= 3.6 "
   ]
  },
  {
   "cell_type": "code",
   "execution_count": 20,
   "metadata": {},
   "outputs": [
    {
     "name": "stdout",
     "output_type": "stream",
     "text": [
      "Some Value: 5\n",
      "5 <class 'str'>\n"
     ]
    }
   ],
   "source": [
    "x = input(\"Some Value: \")\n",
    "print(x, type(x))"
   ]
  },
  {
   "cell_type": "code",
   "execution_count": 23,
   "metadata": {},
   "outputs": [
    {
     "data": {
      "text/plain": [
       "'hello World!'"
      ]
     },
     "execution_count": 23,
     "metadata": {},
     "output_type": "execute_result"
    }
   ],
   "source": [
    "\"hello \" + \"World!\" # concatenation"
   ]
  },
  {
   "cell_type": "code",
   "execution_count": 22,
   "metadata": {},
   "outputs": [
    {
     "name": "stdout",
     "output_type": "stream",
     "text": [
      "Enter your name: sachin yadav\n",
      "Hello! sachin yadav! Welcome to Python\n"
     ]
    }
   ],
   "source": [
    "name = input(\"Enter your name: \") # I/0\n",
    "print(f\"Hello! {name}! Welcome to Python\") # 0/P"
   ]
  },
  {
   "cell_type": "code",
   "execution_count": 24,
   "metadata": {},
   "outputs": [
    {
     "name": "stdout",
     "output_type": "stream",
     "text": [
      "x: 5\n",
      "y: 6\n",
      "Result = 56\n"
     ]
    }
   ],
   "source": [
    "x = input(\"x: \") # \"5\"\n",
    "y = input(\"y: \") # \"6\"\n",
    "\n",
    "r = x + y # \"5\" + \"6\" -> \"56\"\n",
    "\n",
    "print(f\"Result = {r}\")"
   ]
  },
  {
   "cell_type": "code",
   "execution_count": 25,
   "metadata": {},
   "outputs": [
    {
     "name": "stdout",
     "output_type": "stream",
     "text": [
      "x: 6\n",
      "y: 5\n",
      "Result = 11\n"
     ]
    }
   ],
   "source": [
    "# i = int( string )\n",
    "x = int( input(\"x: \") ) # 5\n",
    "y = int( input(\"y: \") )# 6\n",
    "r = x + y # \"5\" + \"6\" -> \"56\"\n",
    "print(f\"Result = {r}\")"
   ]
  },
  {
   "cell_type": "markdown",
   "metadata": {},
   "source": [
    "scanf(\"%d %d %d %d %d\", &a, &b, &c...)\n",
    "\n",
    "    140  150   160  134 120"
   ]
  },
  {
   "cell_type": "code",
   "execution_count": 29,
   "metadata": {},
   "outputs": [
    {
     "name": "stdout",
     "output_type": "stream",
     "text": [
      "['Sachin Yadav', 24, 'India', 7.5, '9782131159', 'sachin@grrassolution.in', 'sachinyadav3496@gmail.com']\n"
     ]
    }
   ],
   "source": [
    "info = [ \"Sachin Yadav\", 24, \"India\", 7.5, \"9782131159\", \"sachin@grrassolution.in\",\n",
    "       \"sachinyadav3496@gmail.com\"]\n",
    "\n",
    "print(info)"
   ]
  },
  {
   "cell_type": "code",
   "execution_count": 31,
   "metadata": {},
   "outputs": [],
   "source": [
    "arr = [ \"Java\", \"C\", \"C++\", \"Python\", \"Go\", \"Scala\", \"Bash\"]\n",
    "# index / pos   0      1     2       3        4      5        6"
   ]
  },
  {
   "cell_type": "code",
   "execution_count": 32,
   "metadata": {},
   "outputs": [
    {
     "name": "stdout",
     "output_type": "stream",
     "text": [
      "['Java', 'C', 'C++', 'Python', 'Go', 'Scala', 'Bash'] <class 'list'>\n"
     ]
    }
   ],
   "source": [
    "print(arr, type(arr))"
   ]
  },
  {
   "cell_type": "code",
   "execution_count": 35,
   "metadata": {},
   "outputs": [
    {
     "data": {
      "text/plain": [
       "'Python'"
      ]
     },
     "execution_count": 35,
     "metadata": {},
     "output_type": "execute_result"
    }
   ],
   "source": [
    "arr[3] # indexing"
   ]
  },
  {
   "cell_type": "code",
   "execution_count": 36,
   "metadata": {},
   "outputs": [
    {
     "data": {
      "text/plain": [
       "['Java', 'C', 'C++', 'Python', 'Go']"
      ]
     },
     "execution_count": 36,
     "metadata": {},
     "output_type": "execute_result"
    }
   ],
   "source": [
    "arr[:5]"
   ]
  },
  {
   "cell_type": "code",
   "execution_count": 37,
   "metadata": {},
   "outputs": [
    {
     "data": {
      "text/plain": [
       "['Go', 'Scala', 'Bash']"
      ]
     },
     "execution_count": 37,
     "metadata": {},
     "output_type": "execute_result"
    }
   ],
   "source": [
    "arr[-3:] # slicing"
   ]
  },
  {
   "cell_type": "code",
   "execution_count": 38,
   "metadata": {},
   "outputs": [],
   "source": [
    "s = \"Sachin\"\n",
    "#    012345"
   ]
  },
  {
   "cell_type": "code",
   "execution_count": 39,
   "metadata": {},
   "outputs": [
    {
     "name": "stdout",
     "output_type": "stream",
     "text": [
      "h\n"
     ]
    }
   ],
   "source": [
    "print(s[3])"
   ]
  },
  {
   "cell_type": "code",
   "execution_count": 40,
   "metadata": {},
   "outputs": [
    {
     "name": "stdout",
     "output_type": "stream",
     "text": [
      "Sachi\n"
     ]
    }
   ],
   "source": [
    "print(s[:5])"
   ]
  },
  {
   "cell_type": "code",
   "execution_count": 41,
   "metadata": {},
   "outputs": [
    {
     "name": "stdout",
     "output_type": "stream",
     "text": [
      "hin\n"
     ]
    }
   ],
   "source": [
    "print(s[-3:])"
   ]
  },
  {
   "cell_type": "code",
   "execution_count": 42,
   "metadata": {},
   "outputs": [
    {
     "name": "stdout",
     "output_type": "stream",
     "text": [
      "nihcaS\n"
     ]
    }
   ],
   "source": [
    "print(s[::-1])"
   ]
  },
  {
   "cell_type": "code",
   "execution_count": 45,
   "metadata": {},
   "outputs": [
    {
     "name": "stdout",
     "output_type": "stream",
     "text": [
      "a number: appa\n",
      "Palindrome\n"
     ]
    }
   ],
   "source": [
    "num = input(\"a number: \")\n",
    "if num == num[::-1]:\n",
    "    print(\"Palindrome\")\n",
    "else:\n",
    "    print(\"Not Palindrome\")"
   ]
  },
  {
   "cell_type": "code",
   "execution_count": 46,
   "metadata": {},
   "outputs": [],
   "source": [
    "s = \"140 150 160 135 145\" # [ 140, 150, 160, 135, 145]"
   ]
  },
  {
   "cell_type": "code",
   "execution_count": 47,
   "metadata": {},
   "outputs": [
    {
     "name": "stdout",
     "output_type": "stream",
     "text": [
      "140 150 160 135 145\n"
     ]
    }
   ],
   "source": [
    "print(s)"
   ]
  },
  {
   "cell_type": "code",
   "execution_count": 48,
   "metadata": {},
   "outputs": [],
   "source": [
    "s = \"Hello World!\"\n",
    "name = \"Sachin\""
   ]
  },
  {
   "cell_type": "code",
   "execution_count": 49,
   "metadata": {},
   "outputs": [
    {
     "name": "stdout",
     "output_type": "stream",
     "text": [
      "Hello World! <class 'str'> 2263074879600\n"
     ]
    }
   ],
   "source": [
    "print(s, type(s), id(s))"
   ]
  },
  {
   "cell_type": "code",
   "execution_count": 50,
   "metadata": {},
   "outputs": [
    {
     "name": "stdout",
     "output_type": "stream",
     "text": [
      "['__add__', '__class__', '__contains__', '__delattr__', '__dir__', '__doc__', '__eq__', '__format__', '__ge__', '__getattribute__', '__getitem__', '__getnewargs__', '__gt__', '__hash__', '__init__', '__init_subclass__', '__iter__', '__le__', '__len__', '__lt__', '__mod__', '__mul__', '__ne__', '__new__', '__reduce__', '__reduce_ex__', '__repr__', '__rmod__', '__rmul__', '__setattr__', '__sizeof__', '__str__', '__subclasshook__', 'capitalize', 'casefold', 'center', 'count', 'encode', 'endswith', 'expandtabs', 'find', 'format', 'format_map', 'index', 'isalnum', 'isalpha', 'isascii', 'isdecimal', 'isdigit', 'isidentifier', 'islower', 'isnumeric', 'isprintable', 'isspace', 'istitle', 'isupper', 'join', 'ljust', 'lower', 'lstrip', 'maketrans', 'partition', 'replace', 'rfind', 'rindex', 'rjust', 'rpartition', 'rsplit', 'rstrip', 'split', 'splitlines', 'startswith', 'strip', 'swapcase', 'title', 'translate', 'upper', 'zfill']\n"
     ]
    }
   ],
   "source": [
    "print(dir(s))"
   ]
  },
  {
   "cell_type": "code",
   "execution_count": 51,
   "metadata": {},
   "outputs": [],
   "source": [
    "s = 'SacHiN'"
   ]
  },
  {
   "cell_type": "code",
   "execution_count": 52,
   "metadata": {},
   "outputs": [
    {
     "name": "stdout",
     "output_type": "stream",
     "text": [
      "sachin\n"
     ]
    }
   ],
   "source": [
    "print(s.lower())"
   ]
  },
  {
   "cell_type": "code",
   "execution_count": 53,
   "metadata": {},
   "outputs": [
    {
     "name": "stdout",
     "output_type": "stream",
     "text": [
      "SACHIN\n"
     ]
    }
   ],
   "source": [
    "print(s.upper())"
   ]
  },
  {
   "cell_type": "code",
   "execution_count": 54,
   "metadata": {},
   "outputs": [
    {
     "name": "stdout",
     "output_type": "stream",
     "text": [
      "sAChIn\n"
     ]
    }
   ],
   "source": [
    "print(s.swapcase())"
   ]
  },
  {
   "cell_type": "code",
   "execution_count": 57,
   "metadata": {},
   "outputs": [
    {
     "name": "stdout",
     "output_type": "stream",
     "text": [
      "hello-world-how-are-you-?\n",
      "['hello', 'world', 'how', 'are', 'you', '?']\n"
     ]
    }
   ],
   "source": [
    "s = \"hello-world-how-are-you-?\"\n",
    "\n",
    "l = s.split('-')\n",
    "\n",
    "print(s)\n",
    "print(l)"
   ]
  },
  {
   "cell_type": "code",
   "execution_count": 58,
   "metadata": {},
   "outputs": [
    {
     "name": "stdout",
     "output_type": "stream",
     "text": [
      "140 150 160 135 145\n",
      "['140', '150', '160', '135', '145']\n"
     ]
    }
   ],
   "source": [
    "s = \"140 150 160 135 145\" \n",
    "arr = s.split() # [ \"140\", \"150\", \"160\", \"135\", \"145\" ]\n",
    "#                 [ 140,    150,   160,   135,  145]\n",
    "print(s)\n",
    "print(arr)"
   ]
  },
  {
   "cell_type": "code",
   "execution_count": 60,
   "metadata": {},
   "outputs": [
    {
     "data": {
      "text/plain": [
       "[140, 150, 160, 135, 145]"
      ]
     },
     "execution_count": 60,
     "metadata": {},
     "output_type": "execute_result"
    }
   ],
   "source": [
    "list( map( int, [ \"140\", \"150\", \"160\", \"135\", \"145\" ] ) ) # lazy evaluation"
   ]
  },
  {
   "cell_type": "code",
   "execution_count": 61,
   "metadata": {},
   "outputs": [
    {
     "name": "stdout",
     "output_type": "stream",
     "text": [
      "5 10 60 30 40\n",
      "[5, 10, 60, 30, 40]\n"
     ]
    }
   ],
   "source": [
    "arr = list( map( int, input().split() ))\n",
    "print(arr)"
   ]
  },
  {
   "cell_type": "code",
   "execution_count": 62,
   "metadata": {},
   "outputs": [
    {
     "data": {
      "text/plain": [
       "False"
      ]
     },
     "execution_count": 62,
     "metadata": {},
     "output_type": "execute_result"
    }
   ],
   "source": [
    "4 > 5"
   ]
  },
  {
   "cell_type": "code",
   "execution_count": 63,
   "metadata": {},
   "outputs": [
    {
     "data": {
      "text/plain": [
       "True"
      ]
     },
     "execution_count": 63,
     "metadata": {},
     "output_type": "execute_result"
    }
   ],
   "source": [
    "5 == 5"
   ]
  },
  {
   "cell_type": "code",
   "execution_count": 64,
   "metadata": {},
   "outputs": [
    {
     "data": {
      "text/plain": [
       "1"
      ]
     },
     "execution_count": 64,
     "metadata": {},
     "output_type": "execute_result"
    }
   ],
   "source": [
    "10 % 3"
   ]
  },
  {
   "cell_type": "code",
   "execution_count": 65,
   "metadata": {},
   "outputs": [
    {
     "data": {
      "text/plain": [
       "7.0"
      ]
     },
     "execution_count": 65,
     "metadata": {},
     "output_type": "execute_result"
    }
   ],
   "source": [
    "14 / 2"
   ]
  },
  {
   "cell_type": "code",
   "execution_count": 66,
   "metadata": {},
   "outputs": [
    {
     "data": {
      "text/plain": [
       "3.142857142857143"
      ]
     },
     "execution_count": 66,
     "metadata": {},
     "output_type": "execute_result"
    }
   ],
   "source": [
    "22 / 7"
   ]
  },
  {
   "cell_type": "code",
   "execution_count": 67,
   "metadata": {},
   "outputs": [
    {
     "data": {
      "text/plain": [
       "3"
      ]
     },
     "execution_count": 67,
     "metadata": {},
     "output_type": "execute_result"
    }
   ],
   "source": [
    "22 // 7 # integer division / floor division  # 6.6"
   ]
  },
  {
   "cell_type": "code",
   "execution_count": 71,
   "metadata": {},
   "outputs": [
    {
     "data": {
      "text/plain": [
       "32768"
      ]
     },
     "execution_count": 71,
     "metadata": {},
     "output_type": "execute_result"
    }
   ],
   "source": [
    "2 ** 15  # 2 byte -> 2 * 8 -> 16 bits\n",
    "# signed 1-bit, 15 bit # 01"
   ]
  },
  {
   "cell_type": "code",
   "execution_count": 70,
   "metadata": {},
   "outputs": [
    {
     "data": {
      "text/plain": [
       "65536"
      ]
     },
     "execution_count": 70,
     "metadata": {},
     "output_type": "execute_result"
    }
   ],
   "source": [
    "2 ** 16"
   ]
  },
  {
   "cell_type": "code",
   "execution_count": 69,
   "metadata": {},
   "outputs": [
    {
     "data": {
      "text/plain": [
       "256"
      ]
     },
     "execution_count": 69,
     "metadata": {},
     "output_type": "execute_result"
    }
   ],
   "source": [
    "2 ** 8"
   ]
  },
  {
   "cell_type": "code",
   "execution_count": 74,
   "metadata": {},
   "outputs": [],
   "source": [
    "n = 1234\n",
    "r = n % 10 # 1234 % 10 -> r = 4\n",
    "n = n / 10 # 1234 / 10 -> n = 123 # 123.4"
   ]
  },
  {
   "cell_type": "code",
   "execution_count": 75,
   "metadata": {},
   "outputs": [
    {
     "data": {
      "text/plain": [
       "27"
      ]
     },
     "execution_count": 75,
     "metadata": {},
     "output_type": "execute_result"
    }
   ],
   "source": [
    "3 ** 3"
   ]
  },
  {
   "cell_type": "markdown",
   "metadata": {},
   "source": [
    "#### Conditional Statements "
   ]
  },
  {
   "cell_type": "markdown",
   "metadata": {},
   "source": [
    "    Indendation\n",
    "    \n",
    "        Space \n",
    "    "
   ]
  },
  {
   "cell_type": "code",
   "execution_count": 76,
   "metadata": {},
   "outputs": [
    {
     "name": "stdout",
     "output_type": "stream",
     "text": [
      "Hello World!\n",
      "Begning space matters in python\n",
      "They use to give indendation\n"
     ]
    }
   ],
   "source": [
    "print(\"Hello World!\")\n",
    "print(\"Begning space matters in python\")\n",
    "print(\"They use to give indendation\")"
   ]
  },
  {
   "cell_type": "code",
   "execution_count": 77,
   "metadata": {},
   "outputs": [
    {
     "ename": "IndentationError",
     "evalue": "unexpected indent (<ipython-input-77-467e50f62671>, line 2)",
     "output_type": "error",
     "traceback": [
      "\u001b[1;36m  File \u001b[1;32m\"<ipython-input-77-467e50f62671>\"\u001b[1;36m, line \u001b[1;32m2\u001b[0m\n\u001b[1;33m    print(\"Begning space matters in python\")\u001b[0m\n\u001b[1;37m    ^\u001b[0m\n\u001b[1;31mIndentationError\u001b[0m\u001b[1;31m:\u001b[0m unexpected indent\n"
     ]
    }
   ],
   "source": [
    "print(\"Hello World!\")\n",
    " print(\"Begning space matters in python\")\n",
    "print(\"They use to give indendation\")"
   ]
  },
  {
   "cell_type": "code",
   "execution_count": 82,
   "metadata": {},
   "outputs": [
    {
     "name": "stdout",
     "output_type": "stream",
     "text": [
      "hi\n",
      "bye\n"
     ]
    }
   ],
   "source": [
    "print('hi'); print('bye')"
   ]
  },
  {
   "cell_type": "code",
   "execution_count": 79,
   "metadata": {},
   "outputs": [
    {
     "name": "stdout",
     "output_type": "stream",
     "text": [
      "<class 'dict'>\n",
      "{'name': 'sachin', 'age': 24, 'language': ['english', 'hindi']}\n"
     ]
    }
   ],
   "source": [
    "d = { 'name': 'sachin', 'age': 24, 'language': [ 'english', 'hindi']}\n",
    "print(type(d));\n",
    "print(d)"
   ]
  },
  {
   "cell_type": "code",
   "execution_count": 81,
   "metadata": {},
   "outputs": [
    {
     "name": "stdout",
     "output_type": "stream",
     "text": [
      "{1, 2, 3, 4} <class 'set'>\n"
     ]
    }
   ],
   "source": [
    "s = { 1, 2, 3, 4, 2, 1, 1, 2,3 , 1, 2,3 , 1, 3, 4, 1, 3, 4, 2}\n",
    "print(s, type(s))"
   ]
  },
  {
   "cell_type": "raw",
   "metadata": {},
   "source": [
    "void somefunc(){\n",
    "        if (cond){\n",
    "                st1;\n",
    "                st2;\n",
    "                st3;\n",
    "                st4;\n",
    "        }else{\n",
    "            st5;\n",
    "            st6;\n",
    "        }\n",
    "}"
   ]
  },
  {
   "cell_type": "raw",
   "metadata": {},
   "source": [
    "if (cond){\n",
    "    st1;\n",
    "st2;\n",
    "        st3;\n",
    " st4;\n",
    "}else{\n",
    "    st5;\n",
    "st6;\n",
    "}"
   ]
  },
  {
   "cell_type": "raw",
   "metadata": {},
   "source": [
    "if cond:\n",
    "    st-1\n",
    "    st-2\n",
    "    st-3\n",
    "    st-4\n",
    "else:\n",
    "    st-5\n",
    "    st-6\n",
    "    "
   ]
  },
  {
   "cell_type": "code",
   "execution_count": 89,
   "metadata": {},
   "outputs": [
    {
     "name": "stdout",
     "output_type": "stream",
     "text": [
      "Number: 6\n",
      "Given 6 number is even.\n"
     ]
    }
   ],
   "source": [
    "num = int(input(\"Number: \"))\n",
    "if num % 2 == 0:\n",
    "    print(f\"Given {num} number is even.\")\n",
    "else:\n",
    "    print(f\"Given {num} number is odd.\")"
   ]
  },
  {
   "cell_type": "code",
   "execution_count": 91,
   "metadata": {},
   "outputs": [
    {
     "name": "stdout",
     "output_type": "stream",
     "text": [
      "Enter week day5\n",
      "Friday\n"
     ]
    }
   ],
   "source": [
    "day_num = int(input(\"Enter week day\"))\n",
    "if day_num == 0 or day_num == 7:\n",
    "    print(\"Sunday\")\n",
    "elif day_num == 1:\n",
    "    print(\"Monday\")\n",
    "elif day_num == 2:\n",
    "    print(\"Tuesday\")\n",
    "elif day_num == 3:\n",
    "    print(\"Wednesday\")\n",
    "elif day_num == 4:\n",
    "    print(\"Thursday\")\n",
    "elif day_num == 5:\n",
    "    print(\"Friday\")\n",
    "elif day_num == 6:\n",
    "    print(\"Saturday\")\n",
    "else:\n",
    "    print(\"Invalid Input\")"
   ]
  },
  {
   "cell_type": "code",
   "execution_count": 96,
   "metadata": {},
   "outputs": [
    {
     "name": "stdout",
     "output_type": "stream",
     "text": [
      "Year: 2020\n",
      "Given 2020 year is a leap year.\n"
     ]
    }
   ],
   "source": [
    "year = int(input(\"Year: \"))\n",
    "if year % 4 == 0:\n",
    "    if (year % 100 == 0 and year % 400 == 0) or year % 100 != 0:\n",
    "        print(f\"Given {year} year is a leap year.\")\n",
    "    else:\n",
    "        print(f\"Given {year} year is not a leap year.\")\n",
    "else:\n",
    "    print(f\"Given {year} year is not a leap year.\")"
   ]
  },
  {
   "cell_type": "markdown",
   "metadata": {},
   "source": [
    "    0, False, None, \"\", [], {} are consider False"
   ]
  },
  {
   "cell_type": "code",
   "execution_count": 98,
   "metadata": {},
   "outputs": [
    {
     "name": "stdout",
     "output_type": "stream",
     "text": [
      "bye\n"
     ]
    }
   ],
   "source": [
    "if 12 % 2: # 13 % 2 == 0, 13 % 2 \n",
    "    #           1 == 0, 1\n",
    "    print(\"hi\")\n",
    "else:\n",
    "    print(\"bye\")"
   ]
  },
  {
   "cell_type": "markdown",
   "metadata": {},
   "source": [
    "    if(printf(1))\n",
    "    {\n",
    "        print('bye');\n",
    "    }else{\n",
    "        print('good bye')\n",
    "    }"
   ]
  },
  {
   "cell_type": "code",
   "execution_count": 102,
   "metadata": {},
   "outputs": [
    {
     "name": "stdout",
     "output_type": "stream",
     "text": [
      "ha hahaha\n"
     ]
    }
   ],
   "source": [
    "if 'hi':\n",
    "    print('ha hahaha')\n",
    "else:\n",
    "    print('ohhhh ohhhh ohhh')"
   ]
  },
  {
   "cell_type": "code",
   "execution_count": 100,
   "metadata": {},
   "outputs": [
    {
     "data": {
      "text/plain": [
       "0"
      ]
     },
     "execution_count": 100,
     "metadata": {},
     "output_type": "execute_result"
    }
   ],
   "source": [
    "2000 % 100"
   ]
  },
  {
   "cell_type": "code",
   "execution_count": 101,
   "metadata": {},
   "outputs": [
    {
     "data": {
      "text/plain": [
       "16"
      ]
     },
     "execution_count": 101,
     "metadata": {},
     "output_type": "execute_result"
    }
   ],
   "source": [
    "2016 % 100"
   ]
  },
  {
   "cell_type": "code",
   "execution_count": 99,
   "metadata": {},
   "outputs": [
    {
     "data": {
      "text/plain": [
       "0"
      ]
     },
     "execution_count": 99,
     "metadata": {},
     "output_type": "execute_result"
    }
   ],
   "source": [
    "1900 % 100"
   ]
  },
  {
   "cell_type": "markdown",
   "metadata": {},
   "source": [
    "    void even_odd(int); # no value return\n",
    "    int even_odd(int); # int value return "
   ]
  },
  {
   "cell_type": "code",
   "execution_count": 108,
   "metadata": {},
   "outputs": [
    {
     "name": "stdout",
     "output_type": "stream",
     "text": [
      "hi\n"
     ]
    }
   ],
   "source": [
    "a = print(\"hi\")"
   ]
  },
  {
   "cell_type": "code",
   "execution_count": 109,
   "metadata": {},
   "outputs": [
    {
     "name": "stdout",
     "output_type": "stream",
     "text": [
      "None\n"
     ]
    }
   ],
   "source": [
    "print(a)"
   ]
  },
  {
   "cell_type": "code",
   "execution_count": 110,
   "metadata": {},
   "outputs": [
    {
     "name": "stdout",
     "output_type": "stream",
     "text": [
      "hi\n",
      "Hi\n",
      "Pogo\n"
     ]
    }
   ],
   "source": [
    "# input = \"hi\"\n",
    "if input() and print(\"Hi\"): # \"hi\" and None\n",
    "    print(\"Congo\")\n",
    "else:\n",
    "    print(\"Pogo\")"
   ]
  },
  {
   "cell_type": "code",
   "execution_count": 107,
   "metadata": {},
   "outputs": [
    {
     "name": "stdout",
     "output_type": "stream",
     "text": [
      "year: 2000\n",
      "Given 2000 year is a leap year.\n"
     ]
    }
   ],
   "source": [
    "year = int(input(\"year: \"))\n",
    "if (year % 4 == 0) and ( year % 100 or year % 400 == 0 ):\n",
    "    print(f\"Given {year} year is a leap year.\")\n",
    "else:\n",
    "     print(f\"Given {year} year is not a leap year.\")"
   ]
  },
  {
   "cell_type": "code",
   "execution_count": 111,
   "metadata": {},
   "outputs": [
    {
     "name": "stdout",
     "output_type": "stream",
     "text": [
      "Hello 1 to World of Python!\n",
      "Hello 2 to World of Python!\n",
      "Hello 3 to World of Python!\n",
      "Hello 4 to World of Python!\n",
      "Hello 5 to World of Python!\n",
      "Hello 6 to World of Python!\n",
      "Hello 7 to World of Python!\n",
      "Hello 8 to World of Python!\n",
      "Hello 9 to World of Python!\n"
     ]
    }
   ],
   "source": [
    "i = 1 # initlize\n",
    "while i < 10: # condition\n",
    "    print(f\"Hello {i} to World of Python!\")\n",
    "    i = i + 1 # increment / decrement"
   ]
  },
  {
   "cell_type": "code",
   "execution_count": 112,
   "metadata": {},
   "outputs": [
    {
     "data": {
      "text/plain": [
       "'sachin sachin sachin sachin sachin '"
      ]
     },
     "execution_count": 112,
     "metadata": {},
     "output_type": "execute_result"
    }
   ],
   "source": [
    "\"sachin \"* 5 # replication"
   ]
  },
  {
   "cell_type": "code",
   "execution_count": 113,
   "metadata": {},
   "outputs": [
    {
     "name": "stdout",
     "output_type": "stream",
     "text": [
      "*\n",
      "**\n",
      "***\n",
      "****\n",
      "*****\n",
      "******\n",
      "*******\n",
      "********\n",
      "*********\n",
      "**********\n"
     ]
    }
   ],
   "source": [
    "i = 1\n",
    "while i <= 10:\n",
    "    print(\"*\"*i)\n",
    "    i = i + 1"
   ]
  },
  {
   "cell_type": "code",
   "execution_count": 114,
   "metadata": {},
   "outputs": [
    {
     "name": "stdout",
     "output_type": "stream",
     "text": [
      "**********\n",
      "*********\n",
      "********\n",
      "*******\n",
      "******\n",
      "*****\n",
      "****\n",
      "***\n",
      "**\n",
      "*\n"
     ]
    }
   ],
   "source": [
    "i = 10\n",
    "while i >= 1:\n",
    "    print(\"*\"*i)\n",
    "    i = i  - 1"
   ]
  },
  {
   "cell_type": "code",
   "execution_count": 117,
   "metadata": {},
   "outputs": [
    {
     "name": "stdout",
     "output_type": "stream",
     "text": [
      "helloworld\n"
     ]
    }
   ],
   "source": [
    "print(\"hello\",\"world\", sep='')"
   ]
  },
  {
   "cell_type": "code",
   "execution_count": 118,
   "metadata": {},
   "outputs": [
    {
     "name": "stdout",
     "output_type": "stream",
     "text": [
      "         *\n",
      "        **\n",
      "       ***\n",
      "      ****\n",
      "     *****\n",
      "    ******\n",
      "   *******\n",
      "  ********\n",
      " *********\n",
      "**********\n"
     ]
    }
   ],
   "source": [
    "i = 1\n",
    "while i <= 10:\n",
    "    print(\" \"*(10-i), \"*\"*(i), sep='')\n",
    "    i = i + 1"
   ]
  },
  {
   "cell_type": "markdown",
   "metadata": {},
   "source": [
    "##### Time complexity "
   ]
  },
  {
   "cell_type": "markdown",
   "metadata": {},
   "source": [
    "`doubt ?`"
   ]
  },
  {
   "cell_type": "code",
   "execution_count": 119,
   "metadata": {},
   "outputs": [
    {
     "name": "stdout",
     "output_type": "stream",
     "text": [
      "hello world\n",
      "hi world\n",
      "Hello World!\n",
      "Sachin Yadav\n",
      "ha ha ha haha ha\n"
     ]
    }
   ],
   "source": [
    "def hi():\n",
    "    print(\"hi world\")\n",
    "    \n",
    "def hello():\n",
    "    print(\"Hello World!\")\n",
    "    \n",
    "class Person:\n",
    "    def __init__(self, name):\n",
    "        self.name = name\n",
    "    def __str__(self):\n",
    "        return self.name\n",
    "    def laugh(self):\n",
    "        print('ha ha ha haha ha')\n",
    "        \n",
    "if __name__ == \"__main__\": # module / package\n",
    "    # main module is equalent main function in c\n",
    "    print('hello world')\n",
    "    hi()\n",
    "    hello()\n",
    "    p = Person('Sachin Yadav')\n",
    "    print(p)\n",
    "    p.laugh()"
   ]
  },
  {
   "cell_type": "code",
   "execution_count": null,
   "metadata": {},
   "outputs": [],
   "source": []
  }
 ],
 "metadata": {
  "kernelspec": {
   "display_name": "Python 3",
   "language": "python",
   "name": "python3"
  },
  "language_info": {
   "codemirror_mode": {
    "name": "ipython",
    "version": 3
   },
   "file_extension": ".py",
   "mimetype": "text/x-python",
   "name": "python",
   "nbconvert_exporter": "python",
   "pygments_lexer": "ipython3",
   "version": "3.8.3"
  }
 },
 "nbformat": 4,
 "nbformat_minor": 4
}
